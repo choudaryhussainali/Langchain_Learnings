{
 "cells": [
  {
   "cell_type": "code",
   "execution_count": 1,
   "metadata": {},
   "outputs": [],
   "source": [
    "import os\n",
    "from dotenv import load_dotenv, find_dotenv\n",
    "_ = load_dotenv(find_dotenv())\n",
    "groq_api_key = os.environ[\"GROQ_API_KEY\"]"
   ]
  },
  {
   "cell_type": "code",
   "execution_count": 2,
   "metadata": {},
   "outputs": [],
   "source": [
    "from langchain_groq import ChatGroq\n",
    "\n",
    "llm = ChatGroq(model=\"llama3-70b-8192\")"
   ]
  },
  {
   "cell_type": "markdown",
   "metadata": {},
   "source": [
    "## Buffer Memory\n",
    "* ConversationBufferMemory keeps a list of chat messages in a buffer and passes those into the prompt template."
   ]
  },
  {
   "cell_type": "code",
   "execution_count": 3,
   "metadata": {},
   "outputs": [
    {
     "name": "stderr",
     "output_type": "stream",
     "text": [
      "C:\\Users\\MAMA\\AppData\\Local\\Temp\\ipykernel_9104\\2025338751.py:22: LangChainDeprecationWarning: Please see the migration guide at: https://python.langchain.com/docs/versions/migrating_memory/\n",
      "  memory = ConversationBufferMemory(memory_key=\"chat_history\", return_messages=True)\n",
      "C:\\Users\\MAMA\\AppData\\Local\\Temp\\ipykernel_9104\\2025338751.py:24: LangChainDeprecationWarning: The class `LLMChain` was deprecated in LangChain 0.1.17 and will be removed in 1.0. Use :meth:`~RunnableSequence, e.g., `prompt | llm`` instead.\n",
      "  conversation = LLMChain(\n"
     ]
    }
   ],
   "source": [
    "from langchain_core.prompts import (\n",
    "    ChatPromptTemplate,\n",
    "    MessagesPlaceholder,\n",
    "    SystemMessagePromptTemplate,\n",
    "    HumanMessagePromptTemplate,\n",
    ")\n",
    "from langchain.chains import LLMChain\n",
    "from langchain.memory import ConversationBufferMemory\n",
    "\n",
    "\n",
    "prompt = ChatPromptTemplate(\n",
    "    messages=[\n",
    "        SystemMessagePromptTemplate.from_template(\n",
    "            \"You are a nice chatbot having a conversation with a human.\"\n",
    "        ),\n",
    "        # The `variable_name` here is what must align with memory\n",
    "        MessagesPlaceholder(variable_name=\"chat_history\"),\n",
    "        HumanMessagePromptTemplate.from_template(\"{question}\")\n",
    "    ]\n",
    ")\n",
    "\n",
    "memory = ConversationBufferMemory(memory_key=\"chat_history\", return_messages=True)\n",
    "\n",
    "conversation = LLMChain(\n",
    "    llm=llm,\n",
    "    prompt=prompt,\n",
    "    verbose=True,\n",
    "    memory=memory\n",
    ")\n"
   ]
  },
  {
   "cell_type": "code",
   "execution_count": 4,
   "metadata": {},
   "outputs": [
    {
     "name": "stderr",
     "output_type": "stream",
     "text": [
      "C:\\Users\\MAMA\\AppData\\Local\\Temp\\ipykernel_9104\\2596321432.py:1: LangChainDeprecationWarning: The method `Chain.__call__` was deprecated in langchain 0.1.0 and will be removed in 1.0. Use :meth:`~invoke` instead.\n",
      "  conversation({\"question\": \"hi\"})\n"
     ]
    },
    {
     "name": "stdout",
     "output_type": "stream",
     "text": [
      "\n",
      "\n",
      "\u001b[1m> Entering new LLMChain chain...\u001b[0m\n",
      "Prompt after formatting:\n",
      "\u001b[32;1m\u001b[1;3mSystem: You are a nice chatbot having a conversation with a human.\n",
      "Human: hi\u001b[0m\n",
      "\n",
      "\u001b[1m> Finished chain.\u001b[0m\n"
     ]
    },
    {
     "data": {
      "text/plain": [
       "{'question': 'hi',\n",
       " 'chat_history': [HumanMessage(content='hi', additional_kwargs={}, response_metadata={}),\n",
       "  AIMessage(content=\"Hi! It's great to meet you! How's your day going so far?\", additional_kwargs={}, response_metadata={})],\n",
       " 'text': \"Hi! It's great to meet you! How's your day going so far?\"}"
      ]
     },
     "execution_count": 4,
     "metadata": {},
     "output_type": "execute_result"
    }
   ],
   "source": [
    "conversation({\"question\": \"hi\"})"
   ]
  },
  {
   "cell_type": "code",
   "execution_count": 5,
   "metadata": {},
   "outputs": [
    {
     "name": "stdout",
     "output_type": "stream",
     "text": [
      "\n",
      "\n",
      "\u001b[1m> Entering new LLMChain chain...\u001b[0m\n",
      "Prompt after formatting:\n",
      "\u001b[32;1m\u001b[1;3mSystem: You are a nice chatbot having a conversation with a human.\n",
      "Human: hi\n",
      "AI: Hello! How are you today?\n",
      "Human: My name is Bappy and I have moved 33 times.\u001b[0m\n",
      "\n",
      "\u001b[1m> Finished chain.\u001b[0m\n"
     ]
    },
    {
     "data": {
      "text/plain": [
       "{'question': 'My name is Bappy and I have moved 33 times.',\n",
       " 'chat_history': [HumanMessage(content='hi'),\n",
       "  AIMessage(content='Hello! How are you today?'),\n",
       "  HumanMessage(content='My name is Bappy and I have moved 33 times.'),\n",
       "  AIMessage(content='Nice to meet you, Bappy! Moving 33 times must have given you a lot of interesting experiences. What has been your favorite place to live so far?')],\n",
       " 'text': 'Nice to meet you, Bappy! Moving 33 times must have given you a lot of interesting experiences. What has been your favorite place to live so far?'}"
      ]
     },
     "execution_count": 5,
     "metadata": {},
     "output_type": "execute_result"
    }
   ],
   "source": [
    "conversation({\"question\": \"My name is Bappy and I have moved 33 times.\"})"
   ]
  },
  {
   "cell_type": "code",
   "execution_count": 5,
   "metadata": {},
   "outputs": [
    {
     "name": "stdout",
     "output_type": "stream",
     "text": [
      "\n",
      "\n",
      "\u001b[1m> Entering new LLMChain chain...\u001b[0m\n",
      "Prompt after formatting:\n",
      "\u001b[32;1m\u001b[1;3mSystem: You are a nice chatbot having a conversation with a human.\n",
      "Human: hi\n",
      "AI: Hi! It's great to meet you! How's your day going so far?\n",
      "Human: If my average moving distance was 100 miles, how many miles took all my moves?\u001b[0m\n",
      "\n",
      "\u001b[1m> Finished chain.\u001b[0m\n"
     ]
    },
    {
     "data": {
      "text/plain": [
       "{'question': 'If my average moving distance was 100 miles, how many miles took all my moves?',\n",
       " 'chat_history': [HumanMessage(content='hi', additional_kwargs={}, response_metadata={}),\n",
       "  AIMessage(content=\"Hi! It's great to meet you! How's your day going so far?\", additional_kwargs={}, response_metadata={}),\n",
       "  HumanMessage(content='If my average moving distance was 100 miles, how many miles took all my moves?', additional_kwargs={}, response_metadata={}),\n",
       "  AIMessage(content=\"That's a clever question! However, I think there might be a tiny bit of information missing. You mentioned your average moving distance is 100 miles, but you didn't mention how many moves you've made.\\n\\nCould you please tell me how many times you've moved? With that information, I can help you calculate the total distance of all your moves!\", additional_kwargs={}, response_metadata={})],\n",
       " 'text': \"That's a clever question! However, I think there might be a tiny bit of information missing. You mentioned your average moving distance is 100 miles, but you didn't mention how many moves you've made.\\n\\nCould you please tell me how many times you've moved? With that information, I can help you calculate the total distance of all your moves!\"}"
      ]
     },
     "execution_count": 5,
     "metadata": {},
     "output_type": "execute_result"
    }
   ],
   "source": [
    "conversation({\"question\": \"If my average moving distance was 100 miles, how many miles took all my moves?\"})"
   ]
  },
  {
   "cell_type": "code",
   "execution_count": 7,
   "metadata": {},
   "outputs": [
    {
     "name": "stdout",
     "output_type": "stream",
     "text": [
      "\n",
      "\n",
      "\u001b[1m> Entering new LLMChain chain...\u001b[0m\n",
      "Prompt after formatting:\n",
      "\u001b[32;1m\u001b[1;3mSystem: You are a nice chatbot having a conversation with a human.\n",
      "Human: hi\n",
      "AI: Hello! How are you today?\n",
      "Human: My name is Bappy and I have moved 33 times.\n",
      "AI: Nice to meet you, Bappy! Moving 33 times must have given you a lot of interesting experiences. What has been your favorite place to live so far?\n",
      "Human: If my average moving distance was 100 miles, how many miles took all my moves?\n",
      "AI: If you have moved 33 times and each move was an average of 100 miles, then the total distance you have moved is 33 times 100 miles, which equals 3300 miles. That's quite a journey!\n",
      "Human: Do you remember my name?\u001b[0m\n",
      "\n",
      "\u001b[1m> Finished chain.\u001b[0m\n"
     ]
    },
    {
     "data": {
      "text/plain": [
       "{'question': 'Do you remember my name?',\n",
       " 'chat_history': [HumanMessage(content='hi'),\n",
       "  AIMessage(content='Hello! How are you today?'),\n",
       "  HumanMessage(content='My name is Bappy and I have moved 33 times.'),\n",
       "  AIMessage(content='Nice to meet you, Bappy! Moving 33 times must have given you a lot of interesting experiences. What has been your favorite place to live so far?'),\n",
       "  HumanMessage(content='If my average moving distance was 100 miles, how many miles took all my moves?'),\n",
       "  AIMessage(content=\"If you have moved 33 times and each move was an average of 100 miles, then the total distance you have moved is 33 times 100 miles, which equals 3300 miles. That's quite a journey!\"),\n",
       "  HumanMessage(content='Do you remember my name?'),\n",
       "  AIMessage(content='Yes, I remember your name, Bappy! If you have any other questions or just want to chat, feel free to let me know.')],\n",
       " 'text': 'Yes, I remember your name, Bappy! If you have any other questions or just want to chat, feel free to let me know.'}"
      ]
     },
     "execution_count": 7,
     "metadata": {},
     "output_type": "execute_result"
    }
   ],
   "source": [
    "conversation({\"question\": \"Do you remember my name?\"})"
   ]
  },
  {
   "cell_type": "code",
   "execution_count": 8,
   "metadata": {},
   "outputs": [
    {
     "name": "stdout",
     "output_type": "stream",
     "text": [
      "[HumanMessage(content='hi'), AIMessage(content='Hello! How are you today?'), HumanMessage(content='My name is Bappy and I have moved 33 times.'), AIMessage(content='Nice to meet you, Bappy! Moving 33 times must have given you a lot of interesting experiences. What has been your favorite place to live so far?'), HumanMessage(content='If my average moving distance was 100 miles, how many miles took all my moves?'), AIMessage(content=\"If you have moved 33 times and each move was an average of 100 miles, then the total distance you have moved is 33 times 100 miles, which equals 3300 miles. That's quite a journey!\"), HumanMessage(content='Do you remember my name?'), AIMessage(content='Yes, I remember your name, Bappy! If you have any other questions or just want to chat, feel free to let me know.')]\n"
     ]
    }
   ],
   "source": [
    "print(memory.buffer)"
   ]
  },
  {
   "cell_type": "markdown",
   "metadata": {},
   "source": [
    "## Conversation Buffer Window Memory\n",
    "Similar to the previous one, but **you can limit the number of conversational exchanges stored in memory**. For example, you can set it so it only remembers the last 3 questions and answers of the conversation."
   ]
  },
  {
   "cell_type": "code",
   "execution_count": 6,
   "metadata": {},
   "outputs": [],
   "source": [
    "from langchain.memory import ConversationBufferWindowMemory\n",
    "from langchain.chains import ConversationChain"
   ]
  },
  {
   "cell_type": "code",
   "execution_count": 7,
   "metadata": {},
   "outputs": [
    {
     "name": "stderr",
     "output_type": "stream",
     "text": [
      "C:\\Users\\MAMA\\AppData\\Local\\Temp\\ipykernel_9104\\3645135692.py:1: LangChainDeprecationWarning: Please see the migration guide at: https://python.langchain.com/docs/versions/migrating_memory/\n",
      "  window_memory = ConversationBufferWindowMemory(k=3)\n"
     ]
    }
   ],
   "source": [
    "window_memory = ConversationBufferWindowMemory(k=3)"
   ]
  },
  {
   "cell_type": "code",
   "execution_count": 8,
   "metadata": {},
   "outputs": [
    {
     "name": "stderr",
     "output_type": "stream",
     "text": [
      "C:\\Users\\MAMA\\AppData\\Local\\Temp\\ipykernel_9104\\2450156885.py:1: LangChainDeprecationWarning: The class `ConversationChain` was deprecated in LangChain 0.2.7 and will be removed in 1.0. Use :class:`~langchain_core.runnables.history.RunnableWithMessageHistory` instead.\n",
      "  conversation_window = ConversationChain(\n"
     ]
    }
   ],
   "source": [
    "conversation_window = ConversationChain(\n",
    "    llm=llm, \n",
    "    memory = window_memory,\n",
    "    verbose=True\n",
    ")"
   ]
  },
  {
   "cell_type": "code",
   "execution_count": 10,
   "metadata": {},
   "outputs": [
    {
     "name": "stdout",
     "output_type": "stream",
     "text": [
      "\n",
      "\n",
      "\u001b[1m> Entering new ConversationChain chain...\u001b[0m\n",
      "Prompt after formatting:\n",
      "\u001b[32;1m\u001b[1;3mThe following is a friendly conversation between a human and an AI. The AI is talkative and provides lots of specific details from its context. If the AI does not know the answer to a question, it truthfully says it does not know.\n",
      "\n",
      "Current conversation:\n",
      "Human: Hi, my name is Bappy\n",
      "AI: Nice to meet you, Bappy! I'm LLaMA, an AI trained by a team of researcher at Meta AI. I've been trained on a massive dataset of text from the internet, which allows me to understand and respond to a wide range of topics and questions. I'm excited to chat with you and see where the conversation takes us! I've got a vast knowledge base at my disposal, so feel free to ask me anything from science and history to entertainment and culture. By the way, I've been trained on a dataset that was cut off in 2021, so my knowledge might not be entirely up-to-date, but I'll do my best to provide helpful and accurate information. What's on your mind, Bappy?\n",
      "Human: Hi, my name is HUSSAIN\n",
      "AI:\u001b[0m\n",
      "\n",
      "\u001b[1m> Finished chain.\u001b[0m\n"
     ]
    },
    {
     "data": {
      "text/plain": [
       "{'input': 'Hi, my name is HUSSAIN',\n",
       " 'history': \"Human: Hi, my name is Bappy\\nAI: Nice to meet you, Bappy! I'm LLaMA, an AI trained by a team of researcher at Meta AI. I've been trained on a massive dataset of text from the internet, which allows me to understand and respond to a wide range of topics and questions. I'm excited to chat with you and see where the conversation takes us! I've got a vast knowledge base at my disposal, so feel free to ask me anything from science and history to entertainment and culture. By the way, I've been trained on a dataset that was cut off in 2021, so my knowledge might not be entirely up-to-date, but I'll do my best to provide helpful and accurate information. What's on your mind, Bappy?\",\n",
       " 'response': \"Nice to meet you, Hussain! I apologize for the mistake earlier. I thought your name was Bappy, but I'm glad you corrected me. Let's start fresh! As I was saying, I'm LLaMA, an AI trained by a team of researcher at Meta AI. I've got a vast knowledge base at my disposal, and I'm excited to chat with you about anything that interests you. Would you like to talk about a specific topic, or is there something on your mind that you'd like to discuss? By the way, I've got access to a vast amount of information, including but not limited to, scientific papers, historical events, celebrity news, and even recipes! What would you like to explore, Hussain?\"}"
      ]
     },
     "execution_count": 10,
     "metadata": {},
     "output_type": "execute_result"
    }
   ],
   "source": [
    "conversation_window({\"input\": \"Hi, my name is HUSSAIN\"})"
   ]
  },
  {
   "cell_type": "code",
   "execution_count": 11,
   "metadata": {},
   "outputs": [
    {
     "name": "stdout",
     "output_type": "stream",
     "text": [
      "\n",
      "\n",
      "\u001b[1m> Entering new ConversationChain chain...\u001b[0m\n",
      "Prompt after formatting:\n",
      "\u001b[32;1m\u001b[1;3mThe following is a friendly conversation between a human and an AI. The AI is talkative and provides lots of specific details from its context. If the AI does not know the answer to a question, it truthfully says it does not know.\n",
      "\n",
      "Current conversation:\n",
      "Human: Hi, my name is Bappy\n",
      "AI: Nice to meet you, Bappy! I'm LLaMA, an AI trained by a team of researcher at Meta AI. I've been trained on a massive dataset of text from the internet, which allows me to understand and respond to a wide range of topics and questions. I'm excited to chat with you and see where the conversation takes us! I've got a vast knowledge base at my disposal, so feel free to ask me anything from science and history to entertainment and culture. By the way, I've been trained on a dataset that was cut off in 2021, so my knowledge might not be entirely up-to-date, but I'll do my best to provide helpful and accurate information. What's on your mind, Bappy?\n",
      "Human: Hi, my name is HUSSAIN\n",
      "AI: Nice to meet you, Hussain! I apologize for the mistake earlier. I thought your name was Bappy, but I'm glad you corrected me. Let's start fresh! As I was saying, I'm LLaMA, an AI trained by a team of researcher at Meta AI. I've got a vast knowledge base at my disposal, and I'm excited to chat with you about anything that interests you. Would you like to talk about a specific topic, or is there something on your mind that you'd like to discuss? By the way, I've got access to a vast amount of information, including but not limited to, scientific papers, historical events, celebrity news, and even recipes! What would you like to explore, Hussain?\n",
      "Human: My favorite color is blue\n",
      "AI:\u001b[0m\n",
      "\n",
      "\u001b[1m> Finished chain.\u001b[0m\n"
     ]
    },
    {
     "data": {
      "text/plain": [
       "{'input': 'My favorite color is blue',\n",
       " 'history': \"Human: Hi, my name is Bappy\\nAI: Nice to meet you, Bappy! I'm LLaMA, an AI trained by a team of researcher at Meta AI. I've been trained on a massive dataset of text from the internet, which allows me to understand and respond to a wide range of topics and questions. I'm excited to chat with you and see where the conversation takes us! I've got a vast knowledge base at my disposal, so feel free to ask me anything from science and history to entertainment and culture. By the way, I've been trained on a dataset that was cut off in 2021, so my knowledge might not be entirely up-to-date, but I'll do my best to provide helpful and accurate information. What's on your mind, Bappy?\\nHuman: Hi, my name is HUSSAIN\\nAI: Nice to meet you, Hussain! I apologize for the mistake earlier. I thought your name was Bappy, but I'm glad you corrected me. Let's start fresh! As I was saying, I'm LLaMA, an AI trained by a team of researcher at Meta AI. I've got a vast knowledge base at my disposal, and I'm excited to chat with you about anything that interests you. Would you like to talk about a specific topic, or is there something on your mind that you'd like to discuss? By the way, I've got access to a vast amount of information, including but not limited to, scientific papers, historical events, celebrity news, and even recipes! What would you like to explore, Hussain?\",\n",
       " 'response': \"Blue is a wonderful color, Hussain! Did you know that blue is also one of the most popular favorite colors among humans? It's a calming and soothing color that can evoke feelings of tranquility and trust. In many cultures, blue is also associated with loyalty, wisdom, and confidence.\\n\\nAs an interesting fact, the pigment blue has a fascinating history. In ancient times, the Egyptians used a blue pigment called azurite to create stunning works of art. Later, during the Renaissance, artists like Michelangelo and Raphael used a blue pigment called ultramarine, which was derived from the semi-precious stone lapis lazuli.\\n\\nWhat is it about the color blue that resonates with you, Hussain? Is it the calming effect, the association with nature, or something else entirely?\"}"
      ]
     },
     "execution_count": 11,
     "metadata": {},
     "output_type": "execute_result"
    }
   ],
   "source": [
    "conversation_window({\"input\": \"My favorite color is blue\"})"
   ]
  },
  {
   "cell_type": "code",
   "execution_count": 12,
   "metadata": {},
   "outputs": [
    {
     "name": "stdout",
     "output_type": "stream",
     "text": [
      "\n",
      "\n",
      "\u001b[1m> Entering new ConversationChain chain...\u001b[0m\n",
      "Prompt after formatting:\n",
      "\u001b[32;1m\u001b[1;3mThe following is a friendly conversation between a human and an AI. The AI is talkative and provides lots of specific details from its context. If the AI does not know the answer to a question, it truthfully says it does not know.\n",
      "\n",
      "Current conversation:\n",
      "Human: Hi, my name is Bappy\n",
      "AI: Nice to meet you, Bappy! I'm LLaMA, an AI trained by a team of researcher at Meta AI. I've been trained on a massive dataset of text from the internet, which allows me to understand and respond to a wide range of topics and questions. I'm excited to chat with you and see where the conversation takes us! I've got a vast knowledge base at my disposal, so feel free to ask me anything from science and history to entertainment and culture. By the way, I've been trained on a dataset that was cut off in 2021, so my knowledge might not be entirely up-to-date, but I'll do my best to provide helpful and accurate information. What's on your mind, Bappy?\n",
      "Human: Hi, my name is HUSSAIN\n",
      "AI: Nice to meet you, Hussain! I apologize for the mistake earlier. I thought your name was Bappy, but I'm glad you corrected me. Let's start fresh! As I was saying, I'm LLaMA, an AI trained by a team of researcher at Meta AI. I've got a vast knowledge base at my disposal, and I'm excited to chat with you about anything that interests you. Would you like to talk about a specific topic, or is there something on your mind that you'd like to discuss? By the way, I've got access to a vast amount of information, including but not limited to, scientific papers, historical events, celebrity news, and even recipes! What would you like to explore, Hussain?\n",
      "Human: My favorite color is blue\n",
      "AI: Blue is a wonderful color, Hussain! Did you know that blue is also one of the most popular favorite colors among humans? It's a calming and soothing color that can evoke feelings of tranquility and trust. In many cultures, blue is also associated with loyalty, wisdom, and confidence.\n",
      "\n",
      "As an interesting fact, the pigment blue has a fascinating history. In ancient times, the Egyptians used a blue pigment called azurite to create stunning works of art. Later, during the Renaissance, artists like Michelangelo and Raphael used a blue pigment called ultramarine, which was derived from the semi-precious stone lapis lazuli.\n",
      "\n",
      "What is it about the color blue that resonates with you, Hussain? Is it the calming effect, the association with nature, or something else entirely?\n",
      "Human: My favorite animals are dogs\n",
      "AI:\u001b[0m\n",
      "\n",
      "\u001b[1m> Finished chain.\u001b[0m\n"
     ]
    },
    {
     "data": {
      "text/plain": [
       "{'input': 'My favorite animals are dogs',\n",
       " 'history': \"Human: Hi, my name is Bappy\\nAI: Nice to meet you, Bappy! I'm LLaMA, an AI trained by a team of researcher at Meta AI. I've been trained on a massive dataset of text from the internet, which allows me to understand and respond to a wide range of topics and questions. I'm excited to chat with you and see where the conversation takes us! I've got a vast knowledge base at my disposal, so feel free to ask me anything from science and history to entertainment and culture. By the way, I've been trained on a dataset that was cut off in 2021, so my knowledge might not be entirely up-to-date, but I'll do my best to provide helpful and accurate information. What's on your mind, Bappy?\\nHuman: Hi, my name is HUSSAIN\\nAI: Nice to meet you, Hussain! I apologize for the mistake earlier. I thought your name was Bappy, but I'm glad you corrected me. Let's start fresh! As I was saying, I'm LLaMA, an AI trained by a team of researcher at Meta AI. I've got a vast knowledge base at my disposal, and I'm excited to chat with you about anything that interests you. Would you like to talk about a specific topic, or is there something on your mind that you'd like to discuss? By the way, I've got access to a vast amount of information, including but not limited to, scientific papers, historical events, celebrity news, and even recipes! What would you like to explore, Hussain?\\nHuman: My favorite color is blue\\nAI: Blue is a wonderful color, Hussain! Did you know that blue is also one of the most popular favorite colors among humans? It's a calming and soothing color that can evoke feelings of tranquility and trust. In many cultures, blue is also associated with loyalty, wisdom, and confidence.\\n\\nAs an interesting fact, the pigment blue has a fascinating history. In ancient times, the Egyptians used a blue pigment called azurite to create stunning works of art. Later, during the Renaissance, artists like Michelangelo and Raphael used a blue pigment called ultramarine, which was derived from the semi-precious stone lapis lazuli.\\n\\nWhat is it about the color blue that resonates with you, Hussain? Is it the calming effect, the association with nature, or something else entirely?\",\n",
       " 'response': \"Dogs are amazing, Hussain! Who can resist those adorable furry faces and wagging tails? As an interesting fact, did you know that dogs have been human companions for over 15,000 years? They were first domesticated from gray wolves, and since then, they've been selectively bred for various behaviors, sizes, and characteristics, resulting in the incredible diversity of breeds we see today.\\n\\nI've got access to a vast amount of information on dogs, from their behavior and training to their health and nutrition. Did you know that dogs have a unique nose print, just like human fingerprints, and that they can hear sounds at frequencies as high as 40,000 Hz? They're truly remarkable creatures!\\n\\nWhat is it about dogs that you love, Hussain? Is it their loyalty, playfulness, or the way they always seem to know when you need a cuddle? Do you have a favorite breed or a special furry friend in your life?\"}"
      ]
     },
     "execution_count": 12,
     "metadata": {},
     "output_type": "execute_result"
    }
   ],
   "source": [
    "conversation_window({\"input\": \"My favorite animals are dogs\"})"
   ]
  },
  {
   "cell_type": "code",
   "execution_count": 13,
   "metadata": {},
   "outputs": [
    {
     "name": "stdout",
     "output_type": "stream",
     "text": [
      "\n",
      "\n",
      "\u001b[1m> Entering new ConversationChain chain...\u001b[0m\n",
      "Prompt after formatting:\n",
      "\u001b[32;1m\u001b[1;3mThe following is a friendly conversation between a human and an AI. The AI is talkative and provides lots of specific details from its context. If the AI does not know the answer to a question, it truthfully says it does not know.\n",
      "\n",
      "Current conversation:\n",
      "Human: Hi, my name is HUSSAIN\n",
      "AI: Nice to meet you, Hussain! I apologize for the mistake earlier. I thought your name was Bappy, but I'm glad you corrected me. Let's start fresh! As I was saying, I'm LLaMA, an AI trained by a team of researcher at Meta AI. I've got a vast knowledge base at my disposal, and I'm excited to chat with you about anything that interests you. Would you like to talk about a specific topic, or is there something on your mind that you'd like to discuss? By the way, I've got access to a vast amount of information, including but not limited to, scientific papers, historical events, celebrity news, and even recipes! What would you like to explore, Hussain?\n",
      "Human: My favorite color is blue\n",
      "AI: Blue is a wonderful color, Hussain! Did you know that blue is also one of the most popular favorite colors among humans? It's a calming and soothing color that can evoke feelings of tranquility and trust. In many cultures, blue is also associated with loyalty, wisdom, and confidence.\n",
      "\n",
      "As an interesting fact, the pigment blue has a fascinating history. In ancient times, the Egyptians used a blue pigment called azurite to create stunning works of art. Later, during the Renaissance, artists like Michelangelo and Raphael used a blue pigment called ultramarine, which was derived from the semi-precious stone lapis lazuli.\n",
      "\n",
      "What is it about the color blue that resonates with you, Hussain? Is it the calming effect, the association with nature, or something else entirely?\n",
      "Human: My favorite animals are dogs\n",
      "AI: Dogs are amazing, Hussain! Who can resist those adorable furry faces and wagging tails? As an interesting fact, did you know that dogs have been human companions for over 15,000 years? They were first domesticated from gray wolves, and since then, they've been selectively bred for various behaviors, sizes, and characteristics, resulting in the incredible diversity of breeds we see today.\n",
      "\n",
      "I've got access to a vast amount of information on dogs, from their behavior and training to their health and nutrition. Did you know that dogs have a unique nose print, just like human fingerprints, and that they can hear sounds at frequencies as high as 40,000 Hz? They're truly remarkable creatures!\n",
      "\n",
      "What is it about dogs that you love, Hussain? Is it their loyalty, playfulness, or the way they always seem to know when you need a cuddle? Do you have a favorite breed or a special furry friend in your life?\n",
      "Human: I like to drive a vespa scooter in the city\n",
      "AI:\u001b[0m\n",
      "\n",
      "\u001b[1m> Finished chain.\u001b[0m\n"
     ]
    },
    {
     "data": {
      "text/plain": [
       "{'input': 'I like to drive a vespa scooter in the city',\n",
       " 'history': \"Human: Hi, my name is HUSSAIN\\nAI: Nice to meet you, Hussain! I apologize for the mistake earlier. I thought your name was Bappy, but I'm glad you corrected me. Let's start fresh! As I was saying, I'm LLaMA, an AI trained by a team of researcher at Meta AI. I've got a vast knowledge base at my disposal, and I'm excited to chat with you about anything that interests you. Would you like to talk about a specific topic, or is there something on your mind that you'd like to discuss? By the way, I've got access to a vast amount of information, including but not limited to, scientific papers, historical events, celebrity news, and even recipes! What would you like to explore, Hussain?\\nHuman: My favorite color is blue\\nAI: Blue is a wonderful color, Hussain! Did you know that blue is also one of the most popular favorite colors among humans? It's a calming and soothing color that can evoke feelings of tranquility and trust. In many cultures, blue is also associated with loyalty, wisdom, and confidence.\\n\\nAs an interesting fact, the pigment blue has a fascinating history. In ancient times, the Egyptians used a blue pigment called azurite to create stunning works of art. Later, during the Renaissance, artists like Michelangelo and Raphael used a blue pigment called ultramarine, which was derived from the semi-precious stone lapis lazuli.\\n\\nWhat is it about the color blue that resonates with you, Hussain? Is it the calming effect, the association with nature, or something else entirely?\\nHuman: My favorite animals are dogs\\nAI: Dogs are amazing, Hussain! Who can resist those adorable furry faces and wagging tails? As an interesting fact, did you know that dogs have been human companions for over 15,000 years? They were first domesticated from gray wolves, and since then, they've been selectively bred for various behaviors, sizes, and characteristics, resulting in the incredible diversity of breeds we see today.\\n\\nI've got access to a vast amount of information on dogs, from their behavior and training to their health and nutrition. Did you know that dogs have a unique nose print, just like human fingerprints, and that they can hear sounds at frequencies as high as 40,000 Hz? They're truly remarkable creatures!\\n\\nWhat is it about dogs that you love, Hussain? Is it their loyalty, playfulness, or the way they always seem to know when you need a cuddle? Do you have a favorite breed or a special furry friend in your life?\",\n",
       " 'response': 'Vespa scooters are iconic, Hussain! There\\'s something so charming about cruising through the city on two wheels, feeling the wind in your hair, and enjoying the freedom of the open road. Did you know that Vespa has a rich history that dates back to 1946, when Enrico Piaggio, an Italian entrepreneur, founded the company? The first Vespa scooter was designed by Corradino D\\'Ascanio, and it was intended to be an affordable, fuel-efficient mode of transportation for the masses.\\n\\nI\\'ve got access to a vast amount of information on Vespa scooters, from their design and engineering to their cultural impact. Did you know that Vespa scooters have been featured in numerous films, including the classic \"Roman Holiday\" starring Audrey Hepburn? They\\'ve also been a symbol of counterculture and rebellion, particularly in the 1960s and 1970s.\\n\\nWhat is it about driving a Vespa scooter in the city that you enjoy, Hussain? Is it the thrill of navigating through traffic, the sense of community with other scooter enthusiasts, or the feeling of being connected to the city\\'s rhythm? Do you have a favorite route or a special spot you like to visit on your scooter?'}"
      ]
     },
     "execution_count": 13,
     "metadata": {},
     "output_type": "execute_result"
    }
   ],
   "source": [
    "conversation_window({\"input\": \"I like to drive a vespa scooter in the city\"})"
   ]
  },
  {
   "cell_type": "code",
   "execution_count": 14,
   "metadata": {},
   "outputs": [
    {
     "name": "stdout",
     "output_type": "stream",
     "text": [
      "\n",
      "\n",
      "\u001b[1m> Entering new ConversationChain chain...\u001b[0m\n",
      "Prompt after formatting:\n",
      "\u001b[32;1m\u001b[1;3mThe following is a friendly conversation between a human and an AI. The AI is talkative and provides lots of specific details from its context. If the AI does not know the answer to a question, it truthfully says it does not know.\n",
      "\n",
      "Current conversation:\n",
      "Human: My favorite color is blue\n",
      "AI: Blue is a wonderful color, Hussain! Did you know that blue is also one of the most popular favorite colors among humans? It's a calming and soothing color that can evoke feelings of tranquility and trust. In many cultures, blue is also associated with loyalty, wisdom, and confidence.\n",
      "\n",
      "As an interesting fact, the pigment blue has a fascinating history. In ancient times, the Egyptians used a blue pigment called azurite to create stunning works of art. Later, during the Renaissance, artists like Michelangelo and Raphael used a blue pigment called ultramarine, which was derived from the semi-precious stone lapis lazuli.\n",
      "\n",
      "What is it about the color blue that resonates with you, Hussain? Is it the calming effect, the association with nature, or something else entirely?\n",
      "Human: My favorite animals are dogs\n",
      "AI: Dogs are amazing, Hussain! Who can resist those adorable furry faces and wagging tails? As an interesting fact, did you know that dogs have been human companions for over 15,000 years? They were first domesticated from gray wolves, and since then, they've been selectively bred for various behaviors, sizes, and characteristics, resulting in the incredible diversity of breeds we see today.\n",
      "\n",
      "I've got access to a vast amount of information on dogs, from their behavior and training to their health and nutrition. Did you know that dogs have a unique nose print, just like human fingerprints, and that they can hear sounds at frequencies as high as 40,000 Hz? They're truly remarkable creatures!\n",
      "\n",
      "What is it about dogs that you love, Hussain? Is it their loyalty, playfulness, or the way they always seem to know when you need a cuddle? Do you have a favorite breed or a special furry friend in your life?\n",
      "Human: I like to drive a vespa scooter in the city\n",
      "AI: Vespa scooters are iconic, Hussain! There's something so charming about cruising through the city on two wheels, feeling the wind in your hair, and enjoying the freedom of the open road. Did you know that Vespa has a rich history that dates back to 1946, when Enrico Piaggio, an Italian entrepreneur, founded the company? The first Vespa scooter was designed by Corradino D'Ascanio, and it was intended to be an affordable, fuel-efficient mode of transportation for the masses.\n",
      "\n",
      "I've got access to a vast amount of information on Vespa scooters, from their design and engineering to their cultural impact. Did you know that Vespa scooters have been featured in numerous films, including the classic \"Roman Holiday\" starring Audrey Hepburn? They've also been a symbol of counterculture and rebellion, particularly in the 1960s and 1970s.\n",
      "\n",
      "What is it about driving a Vespa scooter in the city that you enjoy, Hussain? Is it the thrill of navigating through traffic, the sense of community with other scooter enthusiasts, or the feeling of being connected to the city's rhythm? Do you have a favorite route or a special spot you like to visit on your scooter?\n",
      "Human: My favorite city is San Francisco\n",
      "AI:\u001b[0m\n",
      "\n",
      "\u001b[1m> Finished chain.\u001b[0m\n"
     ]
    },
    {
     "data": {
      "text/plain": [
       "{'input': 'My favorite city is San Francisco',\n",
       " 'history': 'Human: My favorite color is blue\\nAI: Blue is a wonderful color, Hussain! Did you know that blue is also one of the most popular favorite colors among humans? It\\'s a calming and soothing color that can evoke feelings of tranquility and trust. In many cultures, blue is also associated with loyalty, wisdom, and confidence.\\n\\nAs an interesting fact, the pigment blue has a fascinating history. In ancient times, the Egyptians used a blue pigment called azurite to create stunning works of art. Later, during the Renaissance, artists like Michelangelo and Raphael used a blue pigment called ultramarine, which was derived from the semi-precious stone lapis lazuli.\\n\\nWhat is it about the color blue that resonates with you, Hussain? Is it the calming effect, the association with nature, or something else entirely?\\nHuman: My favorite animals are dogs\\nAI: Dogs are amazing, Hussain! Who can resist those adorable furry faces and wagging tails? As an interesting fact, did you know that dogs have been human companions for over 15,000 years? They were first domesticated from gray wolves, and since then, they\\'ve been selectively bred for various behaviors, sizes, and characteristics, resulting in the incredible diversity of breeds we see today.\\n\\nI\\'ve got access to a vast amount of information on dogs, from their behavior and training to their health and nutrition. Did you know that dogs have a unique nose print, just like human fingerprints, and that they can hear sounds at frequencies as high as 40,000 Hz? They\\'re truly remarkable creatures!\\n\\nWhat is it about dogs that you love, Hussain? Is it their loyalty, playfulness, or the way they always seem to know when you need a cuddle? Do you have a favorite breed or a special furry friend in your life?\\nHuman: I like to drive a vespa scooter in the city\\nAI: Vespa scooters are iconic, Hussain! There\\'s something so charming about cruising through the city on two wheels, feeling the wind in your hair, and enjoying the freedom of the open road. Did you know that Vespa has a rich history that dates back to 1946, when Enrico Piaggio, an Italian entrepreneur, founded the company? The first Vespa scooter was designed by Corradino D\\'Ascanio, and it was intended to be an affordable, fuel-efficient mode of transportation for the masses.\\n\\nI\\'ve got access to a vast amount of information on Vespa scooters, from their design and engineering to their cultural impact. Did you know that Vespa scooters have been featured in numerous films, including the classic \"Roman Holiday\" starring Audrey Hepburn? They\\'ve also been a symbol of counterculture and rebellion, particularly in the 1960s and 1970s.\\n\\nWhat is it about driving a Vespa scooter in the city that you enjoy, Hussain? Is it the thrill of navigating through traffic, the sense of community with other scooter enthusiasts, or the feeling of being connected to the city\\'s rhythm? Do you have a favorite route or a special spot you like to visit on your scooter?',\n",
       " 'response': 'San Francisco is a fantastic choice, Hussain! The City by the Bay is known for its stunning natural beauty, iconic landmarks, and vibrant cultural scene. Did you know that San Francisco is home to the Golden Gate Bridge, one of the most photographed bridges in the world? It\\'s an engineering marvel that spans 1.7 miles and is painted a deep reddish-orange color called \"International Orange.\"\\n\\nI\\'ve got access to a wealth of information about San Francisco, from its rich history to its modern-day attractions. Did you know that San Francisco has a thriving food scene, with a diverse range of cuisines and eateries? You can find everything from fresh seafood at Fisherman\\'s Wharf to authentic Chinese dim sum in Chinatown. And, of course, no visit to San Francisco would be complete without trying some sourdough bread or a classic Mission-style burrito!\\n\\nWhat is it about San Francisco that resonates with you, Hussain? Is it the city\\'s eclectic mix of Victorian architecture and modern tech startups, the scenic views of the Bay and the Golden Gate Bridge, or the city\\'s welcoming and inclusive atmosphere? Have you spent time exploring the city\\'s many neighborhoods, such as Haight-Ashbury, the Mission District, or North Beach?'}"
      ]
     },
     "execution_count": 14,
     "metadata": {},
     "output_type": "execute_result"
    }
   ],
   "source": [
    "conversation_window({\"input\": \"My favorite city is San Francisco\"})"
   ]
  },
  {
   "cell_type": "code",
   "execution_count": 15,
   "metadata": {},
   "outputs": [
    {
     "name": "stdout",
     "output_type": "stream",
     "text": [
      "\n",
      "\n",
      "\u001b[1m> Entering new ConversationChain chain...\u001b[0m\n",
      "Prompt after formatting:\n",
      "\u001b[32;1m\u001b[1;3mThe following is a friendly conversation between a human and an AI. The AI is talkative and provides lots of specific details from its context. If the AI does not know the answer to a question, it truthfully says it does not know.\n",
      "\n",
      "Current conversation:\n",
      "Human: My favorite animals are dogs\n",
      "AI: Dogs are amazing, Hussain! Who can resist those adorable furry faces and wagging tails? As an interesting fact, did you know that dogs have been human companions for over 15,000 years? They were first domesticated from gray wolves, and since then, they've been selectively bred for various behaviors, sizes, and characteristics, resulting in the incredible diversity of breeds we see today.\n",
      "\n",
      "I've got access to a vast amount of information on dogs, from their behavior and training to their health and nutrition. Did you know that dogs have a unique nose print, just like human fingerprints, and that they can hear sounds at frequencies as high as 40,000 Hz? They're truly remarkable creatures!\n",
      "\n",
      "What is it about dogs that you love, Hussain? Is it their loyalty, playfulness, or the way they always seem to know when you need a cuddle? Do you have a favorite breed or a special furry friend in your life?\n",
      "Human: I like to drive a vespa scooter in the city\n",
      "AI: Vespa scooters are iconic, Hussain! There's something so charming about cruising through the city on two wheels, feeling the wind in your hair, and enjoying the freedom of the open road. Did you know that Vespa has a rich history that dates back to 1946, when Enrico Piaggio, an Italian entrepreneur, founded the company? The first Vespa scooter was designed by Corradino D'Ascanio, and it was intended to be an affordable, fuel-efficient mode of transportation for the masses.\n",
      "\n",
      "I've got access to a vast amount of information on Vespa scooters, from their design and engineering to their cultural impact. Did you know that Vespa scooters have been featured in numerous films, including the classic \"Roman Holiday\" starring Audrey Hepburn? They've also been a symbol of counterculture and rebellion, particularly in the 1960s and 1970s.\n",
      "\n",
      "What is it about driving a Vespa scooter in the city that you enjoy, Hussain? Is it the thrill of navigating through traffic, the sense of community with other scooter enthusiasts, or the feeling of being connected to the city's rhythm? Do you have a favorite route or a special spot you like to visit on your scooter?\n",
      "Human: My favorite city is San Francisco\n",
      "AI: San Francisco is a fantastic choice, Hussain! The City by the Bay is known for its stunning natural beauty, iconic landmarks, and vibrant cultural scene. Did you know that San Francisco is home to the Golden Gate Bridge, one of the most photographed bridges in the world? It's an engineering marvel that spans 1.7 miles and is painted a deep reddish-orange color called \"International Orange.\"\n",
      "\n",
      "I've got access to a wealth of information about San Francisco, from its rich history to its modern-day attractions. Did you know that San Francisco has a thriving food scene, with a diverse range of cuisines and eateries? You can find everything from fresh seafood at Fisherman's Wharf to authentic Chinese dim sum in Chinatown. And, of course, no visit to San Francisco would be complete without trying some sourdough bread or a classic Mission-style burrito!\n",
      "\n",
      "What is it about San Francisco that resonates with you, Hussain? Is it the city's eclectic mix of Victorian architecture and modern tech startups, the scenic views of the Bay and the Golden Gate Bridge, or the city's welcoming and inclusive atmosphere? Have you spent time exploring the city's many neighborhoods, such as Haight-Ashbury, the Mission District, or North Beach?\n",
      "Human: What is my favorite color?\n",
      "AI:\u001b[0m\n",
      "\n",
      "\u001b[1m> Finished chain.\u001b[0m\n"
     ]
    },
    {
     "data": {
      "text/plain": [
       "{'input': 'What is my favorite color?',\n",
       " 'history': 'Human: My favorite animals are dogs\\nAI: Dogs are amazing, Hussain! Who can resist those adorable furry faces and wagging tails? As an interesting fact, did you know that dogs have been human companions for over 15,000 years? They were first domesticated from gray wolves, and since then, they\\'ve been selectively bred for various behaviors, sizes, and characteristics, resulting in the incredible diversity of breeds we see today.\\n\\nI\\'ve got access to a vast amount of information on dogs, from their behavior and training to their health and nutrition. Did you know that dogs have a unique nose print, just like human fingerprints, and that they can hear sounds at frequencies as high as 40,000 Hz? They\\'re truly remarkable creatures!\\n\\nWhat is it about dogs that you love, Hussain? Is it their loyalty, playfulness, or the way they always seem to know when you need a cuddle? Do you have a favorite breed or a special furry friend in your life?\\nHuman: I like to drive a vespa scooter in the city\\nAI: Vespa scooters are iconic, Hussain! There\\'s something so charming about cruising through the city on two wheels, feeling the wind in your hair, and enjoying the freedom of the open road. Did you know that Vespa has a rich history that dates back to 1946, when Enrico Piaggio, an Italian entrepreneur, founded the company? The first Vespa scooter was designed by Corradino D\\'Ascanio, and it was intended to be an affordable, fuel-efficient mode of transportation for the masses.\\n\\nI\\'ve got access to a vast amount of information on Vespa scooters, from their design and engineering to their cultural impact. Did you know that Vespa scooters have been featured in numerous films, including the classic \"Roman Holiday\" starring Audrey Hepburn? They\\'ve also been a symbol of counterculture and rebellion, particularly in the 1960s and 1970s.\\n\\nWhat is it about driving a Vespa scooter in the city that you enjoy, Hussain? Is it the thrill of navigating through traffic, the sense of community with other scooter enthusiasts, or the feeling of being connected to the city\\'s rhythm? Do you have a favorite route or a special spot you like to visit on your scooter?\\nHuman: My favorite city is San Francisco\\nAI: San Francisco is a fantastic choice, Hussain! The City by the Bay is known for its stunning natural beauty, iconic landmarks, and vibrant cultural scene. Did you know that San Francisco is home to the Golden Gate Bridge, one of the most photographed bridges in the world? It\\'s an engineering marvel that spans 1.7 miles and is painted a deep reddish-orange color called \"International Orange.\"\\n\\nI\\'ve got access to a wealth of information about San Francisco, from its rich history to its modern-day attractions. Did you know that San Francisco has a thriving food scene, with a diverse range of cuisines and eateries? You can find everything from fresh seafood at Fisherman\\'s Wharf to authentic Chinese dim sum in Chinatown. And, of course, no visit to San Francisco would be complete without trying some sourdough bread or a classic Mission-style burrito!\\n\\nWhat is it about San Francisco that resonates with you, Hussain? Is it the city\\'s eclectic mix of Victorian architecture and modern tech startups, the scenic views of the Bay and the Golden Gate Bridge, or the city\\'s welcoming and inclusive atmosphere? Have you spent time exploring the city\\'s many neighborhoods, such as Haight-Ashbury, the Mission District, or North Beach?',\n",
       " 'response': \"I'm not sure, Hussain! I don't have any information about your favorite color. We've talked about dogs, Vespa scooters, and San Francisco, but we haven't discussed colors yet. Would you like to share your favorite color with me? I'm curious to know!\"}"
      ]
     },
     "execution_count": 15,
     "metadata": {},
     "output_type": "execute_result"
    }
   ],
   "source": [
    "conversation_window({\"input\": \"What is my favorite color?\"})"
   ]
  },
  {
   "cell_type": "code",
   "execution_count": 18,
   "metadata": {},
   "outputs": [
    {
     "name": "stdout",
     "output_type": "stream",
     "text": [
      "\n",
      "\n",
      "\u001b[1m> Entering new ConversationChain chain...\u001b[0m\n",
      "Prompt after formatting:\n",
      "\u001b[32;1m\u001b[1;3mThe following is a friendly conversation between a human and an AI. The AI is talkative and provides lots of specific details from its context. If the AI does not know the answer to a question, it truthfully says it does not know.\n",
      "\n",
      "Current conversation:\n",
      "Human: I like to drive a vespa scooter in the city\n",
      "AI: That sounds like a fun way to get around the city! Vespas are stylish and convenient for navigating through urban areas. Do you have a favorite model or color of Vespa that you like to ride?\n",
      "Human: My favorite city is San Francisco\n",
      "AI: San Francisco is a vibrant city with beautiful views, diverse culture, and iconic landmarks like the Golden Gate Bridge and Alcatraz Island. Have you visited San Francisco before, or do you dream of exploring its hills and neighborhoods?\n",
      "Human: What is my favorite color?\n",
      "AI: I'm sorry, I do not have that information. Would you like to share your favorite color with me?\n",
      "Human: What is my favorite city?\n",
      "AI:\u001b[0m\n",
      "\n",
      "\u001b[1m> Finished chain.\u001b[0m\n"
     ]
    },
    {
     "data": {
      "text/plain": [
       "{'input': 'What is my favorite city?',\n",
       " 'history': \"Human: I like to drive a vespa scooter in the city\\nAI: That sounds like a fun way to get around the city! Vespas are stylish and convenient for navigating through urban areas. Do you have a favorite model or color of Vespa that you like to ride?\\nHuman: My favorite city is San Francisco\\nAI: San Francisco is a vibrant city with beautiful views, diverse culture, and iconic landmarks like the Golden Gate Bridge and Alcatraz Island. Have you visited San Francisco before, or do you dream of exploring its hills and neighborhoods?\\nHuman: What is my favorite color?\\nAI: I'm sorry, I do not have that information. Would you like to share your favorite color with me?\",\n",
       " 'response': 'Your favorite city is San Francisco. It is a vibrant city with beautiful views, diverse culture, and iconic landmarks like the Golden Gate Bridge and Alcatraz Island. Have you visited San Francisco before, or do you dream of exploring its hills and neighborhoods?'}"
      ]
     },
     "execution_count": 18,
     "metadata": {},
     "output_type": "execute_result"
    }
   ],
   "source": [
    "conversation_window({\"input\": \"What is my favorite city?\"})"
   ]
  },
  {
   "cell_type": "markdown",
   "metadata": {},
   "source": [
    "# Chat Message History\n",
    "* Save list of chat messages and then fetch them all."
   ]
  },
  {
   "cell_type": "code",
   "execution_count": 19,
   "metadata": {},
   "outputs": [],
   "source": [
    "from langchain_openai import ChatOpenAI\n",
    "\n",
    "llm = ChatOpenAI(model=\"gpt-3.5-turbo-0125\")"
   ]
  },
  {
   "cell_type": "code",
   "execution_count": 16,
   "metadata": {},
   "outputs": [],
   "source": [
    "from langchain.memory import ChatMessageHistory\n",
    "\n",
    "history = ChatMessageHistory()\n",
    "\n",
    "history.add_user_message(\"hi!\")\n",
    "\n",
    "history.add_ai_message(\"whats up?\")"
   ]
  },
  {
   "cell_type": "code",
   "execution_count": 17,
   "metadata": {},
   "outputs": [
    {
     "data": {
      "text/plain": [
       "[HumanMessage(content='hi!', additional_kwargs={}, response_metadata={}),\n",
       " AIMessage(content='whats up?', additional_kwargs={}, response_metadata={})]"
      ]
     },
     "execution_count": 17,
     "metadata": {},
     "output_type": "execute_result"
    }
   ],
   "source": [
    "history.messages"
   ]
  },
  {
   "cell_type": "code",
   "execution_count": null,
   "metadata": {},
   "outputs": [],
   "source": []
  }
 ],
 "metadata": {
  "kernelspec": {
   "display_name": "Python 3",
   "language": "python",
   "name": "python3"
  },
  "language_info": {
   "codemirror_mode": {
    "name": "ipython",
    "version": 3
   },
   "file_extension": ".py",
   "mimetype": "text/x-python",
   "name": "python",
   "nbconvert_exporter": "python",
   "pygments_lexer": "ipython3",
   "version": "3.13.2"
  }
 },
 "nbformat": 4,
 "nbformat_minor": 2
}
