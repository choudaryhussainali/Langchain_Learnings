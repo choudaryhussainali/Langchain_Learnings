{
 "cells": [
  {
   "cell_type": "code",
   "execution_count": null,
   "id": "bb9ff767",
   "metadata": {},
   "outputs": [],
   "source": [
    "from langchain_groq import ChatGroq\n",
    "import os\n",
    "from dotenv import load_dotenv, find_dotenv\n",
    "\n",
    "_ = load_dotenv(find_dotenv())\n",
    "\n",
    "groq_api_key = os.getenv(\"GROQ_API_KEY\")\n",
    "\n",
    "llmModel = ChatGroq(model= 'llama3-70b-8192')\n",
    "\n"
   ]
  },
  {
   "cell_type": "code",
   "execution_count": null,
   "id": "9b733959",
   "metadata": {},
   "outputs": [],
   "source": [
    "messages = [\n",
    "    (\"system\", \"You are an helpful assistant.\"),\n",
    "    (\"human\", \"tell me about dswithbappy\"),\n",
    "]\n",
    "response = llmModel.invoke(messages)\n",
    "print(response.content)"
   ]
  },
  {
   "cell_type": "markdown",
   "id": "4cd9f25d",
   "metadata": {},
   "source": [
    "# DATA Loader"
   ]
  },
  {
   "cell_type": "code",
   "execution_count": null,
   "id": "0ce7458f",
   "metadata": {},
   "outputs": [],
   "source": [
    "pip install langchain_community"
   ]
  },
  {
   "cell_type": "code",
   "execution_count": null,
   "id": "b0b25f62",
   "metadata": {},
   "outputs": [],
   "source": [
    "from langchain_community.document_loaders import TextLoader\n",
    "\n",
    "loader = TextLoader(\"data.txt\")\n",
    "load = loader.load()\n",
    "print(load[0].page_content)\n"
   ]
  },
  {
   "cell_type": "code",
   "execution_count": null,
   "id": "70035713",
   "metadata": {},
   "outputs": [],
   "source": [
    "# Pdf data\n",
    "\n",
    "from langchain_community.document_loaders import PyPDFLoader\n",
    "\n",
    "loader = PyPDFLoader('filename')\n",
    "\n",
    "loaded_data = loader.load_and_split()"
   ]
  },
  {
   "cell_type": "code",
   "execution_count": null,
   "id": "a83fbe31",
   "metadata": {},
   "outputs": [],
   "source": [
    "# CSV loader\n",
    "\n",
    "from langchain_community.document_loaders import CSVLoader\n",
    "\n",
    "loader = CSVLoader('filename')\n",
    "\n",
    "loaded_data = loader.load()\n",
    "# loaded_data"
   ]
  },
  {
   "cell_type": "code",
   "execution_count": null,
   "id": "c96aae45",
   "metadata": {},
   "outputs": [],
   "source": [
    "from langchain_community.document_loaders import UnstructuredHTMLLoader\n",
    "\n",
    "loader = UnstructuredHTMLLoader('filename')\n",
    "\n",
    "loaded_data = loader.load()"
   ]
  },
  {
   "cell_type": "code",
   "execution_count": null,
   "id": "d76f1966",
   "metadata": {},
   "outputs": [],
   "source": [
    "from langchain_community.document_loaders import WikipediaLoader\n",
    "\n",
    "loader = WikipediaLoader(query=\"Tesla\", load_max_docs=1)\n",
    "\n",
    "loaded_data = loader.load()[0].page_content"
   ]
  },
  {
   "cell_type": "markdown",
   "id": "c8cd6e75",
   "metadata": {},
   "source": [
    "# -----RAG Implementation-----"
   ]
  },
  {
   "cell_type": "markdown",
   "id": "6ee30e75",
   "metadata": {},
   "source": [
    "# 1. Splitters"
   ]
  },
  {
   "cell_type": "code",
   "execution_count": null,
   "id": "e98b58ba",
   "metadata": {},
   "outputs": [],
   "source": [
    "import os\n",
    "from dotenv import load_dotenv, find_dotenv\n",
    "from langchain_groq import ChatGroq\n",
    "\n",
    "_ = load_dotenv(find_dotenv())\n",
    "\n",
    "groq_api_key = os.getenv(\"GROQ_API_KEY\")\n",
    "\n",
    "llm = ChatGroq(model = \"llama3-70b-8192\")\n",
    "\n",
    "from langchain_community.document_loaders import TextLoader\n",
    "\n",
    "loader = TextLoader('data.txt')\n",
    "loaded = loader.load()\n",
    "print(loaded[0].page_content)\n"
   ]
  },
  {
   "cell_type": "markdown",
   "id": "2f8c6fb3",
   "metadata": {},
   "source": [
    "# Text Splitters "
   ]
  },
  {
   "cell_type": "code",
   "execution_count": null,
   "id": "add76aae",
   "metadata": {},
   "outputs": [],
   "source": [
    "import os\n",
    "from dotenv import load_dotenv, find_dotenv\n",
    "from langchain_groq import ChatGroq\n",
    "\n",
    "_ = load_dotenv(find_dotenv())\n",
    "\n",
    "groq_api_key = os.getenv(\"GROQ_API_KEY\")\n",
    "\n",
    "llm = ChatGroq(model = \"llama3-70b-8192\")\n",
    "\n",
    "from langchain_community.document_loaders import TextLoader\n",
    "\n",
    "loader = TextLoader('data.txt')\n",
    "loaded = loader.load()\n",
    "\n",
    "\n",
    "from langchain_text_splitters import CharacterTextSplitter\n",
    "\n",
    "text_splitter = CharacterTextSplitter(\n",
    "\n",
    "    separator = \"\\n\\n\",\n",
    "    chunk_size = 1000,\n",
    "    chunk_overlap = 200,\n",
    "    length_function = len,\n",
    "    is_separator_regex = False\n",
    "\n",
    ")\n",
    "\n",
    "chunks = text_splitter.create_documents(loaded[0].page_content)\n"
   ]
  },
  {
   "cell_type": "code",
   "execution_count": null,
   "id": "16afc7ae",
   "metadata": {},
   "outputs": [],
   "source": [
    "print(chunks)\n",
    "len(chunks)"
   ]
  },
  {
   "cell_type": "markdown",
   "id": "66f54a44",
   "metadata": {},
   "source": [
    "# Recursive Character text Splitter\n"
   ]
  },
  {
   "cell_type": "code",
   "execution_count": null,
   "id": "28b96448",
   "metadata": {},
   "outputs": [],
   "source": [
    "from langchain_text_splitters import RecursiveCharacterTextSplitter \n",
    "\n",
    "chunkss = RecursiveCharacterTextSplitter(\n",
    "    chunk_size = 26,\n",
    "    chunk_overlap = 4 \n",
    "    \n",
    ")\n",
    "\n",
    "text = chunkss.split_text(loaded[0].page_content)\n",
    "text"
   ]
  },
  {
   "cell_type": "markdown",
   "id": "62c0c532",
   "metadata": {},
   "source": [
    "# Embeddings\n",
    ". Transform the small parts of text in numbers (vectors) that are easily stored and searched by vector databases."
   ]
  },
  {
   "cell_type": "code",
   "execution_count": null,
   "id": "485acb72",
   "metadata": {},
   "outputs": [],
   "source": [
    "from langchain_openai import OpenAIEmbeddings\n",
    "\n",
    "embeddings_model = OpenAIEmbeddings()"
   ]
  },
  {
   "cell_type": "code",
   "execution_count": null,
   "id": "a8e6a46c",
   "metadata": {},
   "outputs": [],
   "source": [
    "chunks_of_text =     [\n",
    "        \"Hi there!\",\n",
    "        \"Hello!\",\n",
    "        \"What's your name?\",\n",
    "        \"Bond, James Bond\",\n",
    "        \"Hello Bond!\"\n",
    "    ]"
   ]
  },
  {
   "cell_type": "code",
   "execution_count": null,
   "id": "21719af7",
   "metadata": {},
   "outputs": [],
   "source": [
    "embeddings = embeddings_model.embed_documents(chunks_of_text)\n"
   ]
  },
  {
   "cell_type": "code",
   "execution_count": null,
   "id": "9f479fca",
   "metadata": {},
   "outputs": [],
   "source": [
    "\n",
    "from langchain_community.document_loaders import TextLoader\n",
    "from langchain_openai import OpenAIEmbeddings\n",
    "from langchain_text_splitters import CharacterTextSplitter\n",
    "from langchain_chroma import Chroma\n",
    "\n",
    "# Load the document, split it into chunks, embed each chunk and load it into the vector store.\n",
    "loaded_document = TextLoader('data.txt').load()\n",
    "\n",
    "text_splitter = CharacterTextSplitter(chunk_size=1000, chunk_overlap=0)\n",
    "\n",
    "chunks_of_text = text_splitter.split_documents(loaded_document)"
   ]
  },
  {
   "cell_type": "code",
   "execution_count": null,
   "id": "d3b2c189",
   "metadata": {},
   "outputs": [],
   "source": [
    "len(chunks_of_text)\n"
   ]
  },
  {
   "cell_type": "code",
   "execution_count": null,
   "id": "90ca7497",
   "metadata": {},
   "outputs": [],
   "source": [
    "vector_db = Chroma.from_documents(chunks_of_text, OpenAIEmbeddings())\n"
   ]
  },
  {
   "cell_type": "code",
   "execution_count": null,
   "id": "0bf2cfaa",
   "metadata": {},
   "outputs": [],
   "source": [
    "question = \"What did the president say about the John Lewis Voting Rights Act?\"\n",
    "\n",
    "response = vector_db.similarity_search(question)\n",
    "\n",
    "print(response[0].page_content)"
   ]
  },
  {
   "cell_type": "markdown",
   "id": "100fe8b5",
   "metadata": {},
   "source": [
    "# faiss"
   ]
  },
  {
   "cell_type": "code",
   "execution_count": null,
   "id": "01862288",
   "metadata": {},
   "outputs": [],
   "source": [
    "from langchain_community.vectorstores import FAISS\n",
    "from langchain_openai import OpenAIEmbeddings\n",
    "from langchain_text_splitters import CharacterTextSplitter\n",
    "\n",
    "loaded_document = loader.load()\n",
    "\n",
    "text_splitter = CharacterTextSplitter(chunk_size=1000, chunk_overlap=0)\n",
    "\n",
    "chunks_of_text = text_splitter.split_documents(loaded_document)\n",
    "\n",
    "embeddings = OpenAIEmbeddings()\n",
    "\n",
    "vector_db = FAISS.from_documents(chunks_of_text, embeddings)"
   ]
  },
  {
   "cell_type": "code",
   "execution_count": null,
   "id": "a5bcea8f",
   "metadata": {},
   "outputs": [],
   "source": []
  }
 ],
 "metadata": {
  "kernelspec": {
   "display_name": "Python 3",
   "language": "python",
   "name": "python3"
  },
  "language_info": {
   "codemirror_mode": {
    "name": "ipython",
    "version": 3
   },
   "file_extension": ".py",
   "mimetype": "text/x-python",
   "name": "python",
   "nbconvert_exporter": "python",
   "pygments_lexer": "ipython3",
   "version": "3.13.2"
  }
 },
 "nbformat": 4,
 "nbformat_minor": 5
}
