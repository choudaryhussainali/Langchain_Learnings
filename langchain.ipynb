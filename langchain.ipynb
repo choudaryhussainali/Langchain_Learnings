{
 "cells": [
  {
   "cell_type": "markdown",
   "id": "9a9fe5d8",
   "metadata": {},
   "source": [
    "# Import API KEY"
   ]
  },
  {
   "cell_type": "code",
   "execution_count": null,
   "id": "cde1d24b",
   "metadata": {},
   "outputs": [],
   "source": [
    "\n",
    "\n",
    "import os\n",
    "from dotenv import load_dotenv, find_dotenv\n",
    "\n",
    "_ = load_dotenv(find_dotenv())\n",
    "\n",
    "groq_api_key = os.getenv(\"GROQ_API_KEY\")\n",
    "\n",
    "print(groq_api_key)\n",
    "\n"
   ]
  },
  {
   "cell_type": "markdown",
   "id": "84b75c0b",
   "metadata": {},
   "source": [
    "# IMPORT GROQ (completion model)"
   ]
  },
  {
   "cell_type": "code",
   "execution_count": null,
   "id": "669ddf0f",
   "metadata": {},
   "outputs": [],
   "source": [
    "from groq import Groq\n",
    "\n",
    "llmModel = Groq()"
   ]
  },
  {
   "cell_type": "markdown",
   "id": "c27b7c78",
   "metadata": {},
   "source": [
    "# Generate response using chat model"
   ]
  },
  {
   "cell_type": "code",
   "execution_count": null,
   "id": "44e92f28",
   "metadata": {},
   "outputs": [],
   "source": [
    "response = llmModel.chat.completions.create(\n",
    "\n",
    "    messages=[\n",
    "        {\n",
    "            'role': 'system',\n",
    "            'content': 'Your are an AI assitant'\n",
    "        },\n",
    "        {\n",
    "        \n",
    "            'role': 'user',\n",
    "            'content': 'What is python'\n",
    "        }\n",
    "    ],\n",
    "\n",
    "    model=\"llama3-70b-8192\"\n",
    "\n",
    ")"
   ]
  },
  {
   "cell_type": "code",
   "execution_count": null,
   "id": "95004cde",
   "metadata": {},
   "outputs": [],
   "source": [
    "print(response.choices[0].message.content)"
   ]
  },
  {
   "cell_type": "markdown",
   "id": "091cf4af",
   "metadata": {},
   "source": [
    "# GROQ using Langchain (Chat Model)"
   ]
  },
  {
   "cell_type": "code",
   "execution_count": null,
   "id": "d69440bb",
   "metadata": {},
   "outputs": [],
   "source": [
    "from langchain_groq import ChatGroq\n",
    "\n",
    "llmModel = ChatGroq(\n",
    "    model=\"llama3-70b-8192\"\n",
    ")\n",
    "\n",
    "message = [\n",
    "    {\n",
    "        'role': 'system',\n",
    "        'content': 'You are a Python instructor'\n",
    "    },\n",
    "    {\n",
    "        'role': 'user',\n",
    "        'content': 'Who are you'\n",
    "    }\n",
    "]\n",
    "response = llmModel.invoke(message)\n",
    "\n",
    "print(response.content)\n"
   ]
  },
  {
   "cell_type": "markdown",
   "id": "1d801c05",
   "metadata": {},
   "source": [
    "# PromptTemplate in Langchain"
   ]
  },
  {
   "cell_type": "markdown",
   "id": "44f15e6c",
   "metadata": {},
   "source": [
    "Passing a template as an input to LLms.. \\\n",
    "Template may contain variables"
   ]
  },
  {
   "cell_type": "code",
   "execution_count": null,
   "id": "a50db7b7",
   "metadata": {},
   "outputs": [],
   "source": []
  }
 ],
 "metadata": {
  "kernelspec": {
   "display_name": "Python 3",
   "language": "python",
   "name": "python3"
  },
  "language_info": {
   "codemirror_mode": {
    "name": "ipython",
    "version": 3
   },
   "file_extension": ".py",
   "mimetype": "text/x-python",
   "name": "python",
   "nbconvert_exporter": "python",
   "pygments_lexer": "ipython3",
   "version": "3.13.2"
  }
 },
 "nbformat": 4,
 "nbformat_minor": 5
}
